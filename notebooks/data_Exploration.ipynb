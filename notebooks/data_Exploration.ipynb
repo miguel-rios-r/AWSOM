{
 "cells": [
  {
   "cell_type": "markdown",
   "metadata": {},
   "source": [
    "Exploration data\n"
   ]
  },
  {
   "cell_type": "code",
   "execution_count": 51,
   "metadata": {},
   "outputs": [],
   "source": [
    "import pandas as pd"
   ]
  },
  {
   "cell_type": "code",
   "execution_count": 52,
   "metadata": {},
   "outputs": [],
   "source": [
    "# Carga de los datos desde los archivos JSON\n",
    "plasma1_data = pd.read_json(\"../data/plasma-1-day.json\")\n",
    "plasma3_data = pd.read_json(\"../data/plasma-3-day.json\")\n",
    "mag1_data = pd.read_json(\"../data/mag-1-day.json\")\n",
    "mag3_data = pd.read_json(\"../data/mag-3-day.json\")\n",
    "k_index_data = pd.read_json(\"../data/noaa-planetary-k-index_20231008-180142.json\")"
   ]
  },
  {
   "cell_type": "code",
   "execution_count": 53,
   "metadata": {},
   "outputs": [
    {
     "name": "stdout",
     "output_type": "stream",
     "text": [
      "                         0        1      2            3\n",
      "0                 time_tag  density  speed  temperature\n",
      "1  2023-10-07 23:04:00.000     2.36  507.0        32431\n",
      "2  2023-10-07 23:05:00.000     2.33  506.9        30543\n",
      "3  2023-10-07 23:06:00.000     2.39  506.4        30764\n",
      "4  2023-10-07 23:07:00.000     2.36  507.0        30600\n",
      "                         0        1      2            3\n",
      "0                 time_tag  density  speed  temperature\n",
      "1  2023-10-05 23:05:00.000    13.19  482.4       164470\n",
      "2  2023-10-05 23:06:00.000    13.04  482.1       162617\n",
      "3  2023-10-05 23:07:00.000    12.69  482.6       158143\n",
      "4  2023-10-05 23:08:00.000    13.34  481.9       166990\n",
      "                         0       1       2       3        4        5     6\n",
      "0                 time_tag  bx_gsm  by_gsm  bz_gsm  lon_gsm  lat_gsm    bt\n",
      "1  2023-10-07 23:05:00.000   -0.76   -0.06   -4.59   184.22   -80.60  4.66\n",
      "2  2023-10-07 23:06:00.000   -0.83   -0.25   -4.57   196.47   -79.30  4.66\n",
      "3  2023-10-07 23:07:00.000   -0.87   -0.36   -4.55   202.31   -78.26  4.65\n",
      "4  2023-10-07 23:08:00.000   -0.76   -0.38   -4.54   206.21   -79.39  4.62\n",
      "                         0       1       2       3        4        5     6\n",
      "0                 time_tag  bx_gsm  by_gsm  bz_gsm  lon_gsm  lat_gsm    bt\n",
      "1  2023-10-05 23:05:00.000    2.51   -0.48    0.70   349.19    15.38  2.66\n",
      "2  2023-10-05 23:06:00.000    3.31   -0.39    0.71   353.32    12.03  3.41\n",
      "3  2023-10-05 23:07:00.000    3.56   -0.03    0.80   359.46    12.73  3.66\n",
      "4  2023-10-05 23:08:00.000    3.35   -0.42    0.84   352.88    14.00  3.48\n",
      "                         0     1          2              3\n",
      "0                 time_tag    Kp  a_running  station_count\n",
      "1  2023-10-01 00:00:00.000  4.00         27              7\n",
      "2  2023-10-01 03:00:00.000  2.00          7              7\n",
      "3  2023-10-01 06:00:00.000  2.00          7              7\n",
      "4  2023-10-01 09:00:00.000  2.00          7              7\n",
      "0    object\n",
      "1    object\n",
      "2    object\n",
      "3    object\n",
      "dtype: object\n",
      "0    object\n",
      "1    object\n",
      "2    object\n",
      "3    object\n",
      "dtype: object\n",
      "0    object\n",
      "1    object\n",
      "2    object\n",
      "3    object\n",
      "4    object\n",
      "5    object\n",
      "6    object\n",
      "dtype: object\n",
      "0    object\n",
      "1    object\n",
      "2    object\n",
      "3    object\n",
      "4    object\n",
      "5    object\n",
      "6    object\n",
      "dtype: object\n",
      "0    object\n",
      "1    object\n",
      "2    object\n",
      "3    object\n",
      "dtype: object\n"
     ]
    }
   ],
   "source": [
    "# Visualización de las primeras filas de cada conjunto de datos\n",
    "print(plasma1_data.head())\n",
    "print(plasma3_data.head())\n",
    "print(mag1_data.head())\n",
    "print(mag3_data.head())\n",
    "print(k_index_data.head())\n",
    "\n",
    "# Verificación de los tipos de datos\n",
    "print(plasma1_data.dtypes)\n",
    "print(plasma3_data.dtypes)\n",
    "print(mag1_data.dtypes)\n",
    "print(mag3_data.dtypes)\n",
    "print(k_index_data.dtypes)\n"
   ]
  },
  {
   "cell_type": "code",
   "execution_count": 54,
   "metadata": {},
   "outputs": [],
   "source": [
    "# Eliminación de filas con valores faltantes\n",
    "plasma1_data.dropna(inplace=True)\n",
    "plasma3_data.dropna(inplace=True)\n",
    "mag1_data.dropna(inplace=True)\n",
    "mag3_data.dropna(inplace=True)\n",
    "k_index_data.dropna(inplace=True)\n"
   ]
  },
  {
   "cell_type": "code",
   "execution_count": 57,
   "metadata": {},
   "outputs": [],
   "source": [
    "# Guarda los datos preprocesados en archivos CSV u otros formatos\n",
    "plasma1_data.to_csv(\"plasma_data1_preprocessed.csv\", index=False)\n",
    "plasma3_data.to_csv(\"plasma_data3_preprocessed.csv\", index=False)\n",
    "mag1_data.to_csv(\"mag_data1_preprocessed.csv\", index=False)\n",
    "mag3_data.to_csv(\"mag_data3_preprocessed.csv\", index=False)\n",
    "k_index_data.to_csv(\"k_index_data_preprocessed.csv\", index=False)"
   ]
  },
  {
   "cell_type": "code",
   "execution_count": 59,
   "metadata": {},
   "outputs": [
    {
     "ename": "KeyError",
     "evalue": "'time_tag'",
     "output_type": "error",
     "traceback": [
      "\u001b[0;31m---------------------------------------------------------------------------\u001b[0m",
      "\u001b[0;31mKeyError\u001b[0m                                  Traceback (most recent call last)",
      "\u001b[1;32m/Users/michelleperez/AWSOM/notebooks/data_Exploration.ipynb Cell 7\u001b[0m line \u001b[0;36m6\n\u001b[1;32m      <a href='vscode-notebook-cell:/Users/michelleperez/AWSOM/notebooks/data_Exploration.ipynb#X24sZmlsZQ%3D%3D?line=1'>2</a>\u001b[0m \u001b[39mfrom\u001b[39;00m \u001b[39mmatplotlib\u001b[39;00m \u001b[39mimport\u001b[39;00m pyplot \u001b[39mas\u001b[39;00m plt\n\u001b[1;32m      <a href='vscode-notebook-cell:/Users/michelleperez/AWSOM/notebooks/data_Exploration.ipynb#X24sZmlsZQ%3D%3D?line=4'>5</a>\u001b[0m plt\u001b[39m.\u001b[39mfigure(figsize\u001b[39m=\u001b[39m(\u001b[39m12\u001b[39m, \u001b[39m6\u001b[39m))\n\u001b[0;32m----> <a href='vscode-notebook-cell:/Users/michelleperez/AWSOM/notebooks/data_Exploration.ipynb#X24sZmlsZQ%3D%3D?line=5'>6</a>\u001b[0m plt\u001b[39m.\u001b[39mplot(k_index_data[\u001b[39m\"\u001b[39;49m\u001b[39mtime_tag\u001b[39;49m\u001b[39m\"\u001b[39;49m], k_index_data[\u001b[39m\"\u001b[39m\u001b[39mKp\u001b[39m\u001b[39m\"\u001b[39m], marker\u001b[39m=\u001b[39m\u001b[39m\"\u001b[39m\u001b[39mo\u001b[39m\u001b[39m\"\u001b[39m, linestyle\u001b[39m=\u001b[39m\u001b[39m\"\u001b[39m\u001b[39m-\u001b[39m\u001b[39m\"\u001b[39m, color\u001b[39m=\u001b[39m\u001b[39m\"\u001b[39m\u001b[39mb\u001b[39m\u001b[39m\"\u001b[39m)\n\u001b[1;32m      <a href='vscode-notebook-cell:/Users/michelleperez/AWSOM/notebooks/data_Exploration.ipynb#X24sZmlsZQ%3D%3D?line=6'>7</a>\u001b[0m plt\u001b[39m.\u001b[39mtitle(\u001b[39m\"\u001b[39m\u001b[39mVariación de Kp a lo largo del tiempo\u001b[39m\u001b[39m\"\u001b[39m)\n\u001b[1;32m      <a href='vscode-notebook-cell:/Users/michelleperez/AWSOM/notebooks/data_Exploration.ipynb#X24sZmlsZQ%3D%3D?line=7'>8</a>\u001b[0m plt\u001b[39m.\u001b[39mxlabel(\u001b[39m\"\u001b[39m\u001b[39mFecha y Hora\u001b[39m\u001b[39m\"\u001b[39m)\n",
      "File \u001b[0;32m~/AWSOM/mi_entorno_virtual/lib/python3.8/site-packages/pandas/core/frame.py:3761\u001b[0m, in \u001b[0;36mDataFrame.__getitem__\u001b[0;34m(self, key)\u001b[0m\n\u001b[1;32m   3759\u001b[0m \u001b[39mif\u001b[39;00m \u001b[39mself\u001b[39m\u001b[39m.\u001b[39mcolumns\u001b[39m.\u001b[39mnlevels \u001b[39m>\u001b[39m \u001b[39m1\u001b[39m:\n\u001b[1;32m   3760\u001b[0m     \u001b[39mreturn\u001b[39;00m \u001b[39mself\u001b[39m\u001b[39m.\u001b[39m_getitem_multilevel(key)\n\u001b[0;32m-> 3761\u001b[0m indexer \u001b[39m=\u001b[39m \u001b[39mself\u001b[39;49m\u001b[39m.\u001b[39;49mcolumns\u001b[39m.\u001b[39;49mget_loc(key)\n\u001b[1;32m   3762\u001b[0m \u001b[39mif\u001b[39;00m is_integer(indexer):\n\u001b[1;32m   3763\u001b[0m     indexer \u001b[39m=\u001b[39m [indexer]\n",
      "File \u001b[0;32m~/AWSOM/mi_entorno_virtual/lib/python3.8/site-packages/pandas/core/indexes/range.py:349\u001b[0m, in \u001b[0;36mRangeIndex.get_loc\u001b[0;34m(self, key)\u001b[0m\n\u001b[1;32m    347\u001b[0m         \u001b[39mraise\u001b[39;00m \u001b[39mKeyError\u001b[39;00m(key) \u001b[39mfrom\u001b[39;00m \u001b[39merr\u001b[39;00m\n\u001b[1;32m    348\u001b[0m \u001b[39mif\u001b[39;00m \u001b[39misinstance\u001b[39m(key, Hashable):\n\u001b[0;32m--> 349\u001b[0m     \u001b[39mraise\u001b[39;00m \u001b[39mKeyError\u001b[39;00m(key)\n\u001b[1;32m    350\u001b[0m \u001b[39mself\u001b[39m\u001b[39m.\u001b[39m_check_indexing_error(key)\n\u001b[1;32m    351\u001b[0m \u001b[39mraise\u001b[39;00m \u001b[39mKeyError\u001b[39;00m(key)\n",
      "\u001b[0;31mKeyError\u001b[0m: 'time_tag'"
     ]
    },
    {
     "data": {
      "text/plain": [
       "<Figure size 1200x600 with 0 Axes>"
      ]
     },
     "metadata": {},
     "output_type": "display_data"
    }
   ],
   "source": [
    "# Ejemplo de gráfico de series temporales de Kp\n",
    "from matplotlib import pyplot as plt\n",
    "\n",
    "\n",
    "plt.figure(figsize=(12, 6))\n",
    "plt.plot(k_index_data[\"time_tag\"], k_index_data[\"Kp\"], marker=\"o\", linestyle=\"-\", color=\"b\")\n",
    "plt.title(\"Variación de Kp a lo largo del tiempo\")\n",
    "plt.xlabel(\"Fecha y Hora\")\n",
    "plt.ylabel(\"Kp\")\n",
    "plt.grid(True)\n",
    "plt.xticks(rotation=45)\n",
    "plt.tight_layout()\n",
    "plt.show()"
   ]
  }
 ],
 "metadata": {
  "kernelspec": {
   "display_name": "mi_entorno_virtual",
   "language": "python",
   "name": "python3"
  },
  "language_info": {
   "codemirror_mode": {
    "name": "ipython",
    "version": 3
   },
   "file_extension": ".py",
   "mimetype": "text/x-python",
   "name": "python",
   "nbconvert_exporter": "python",
   "pygments_lexer": "ipython3",
   "version": "3.8.9"
  },
  "orig_nbformat": 4
 },
 "nbformat": 4,
 "nbformat_minor": 2
}
